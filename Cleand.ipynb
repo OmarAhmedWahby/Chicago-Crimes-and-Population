{
 "cells": [
  {
   "cell_type": "markdown",
   "id": "0b7a8996",
   "metadata": {},
   "source": [
    "# Libraries"
   ]
  },
  {
   "cell_type": "code",
   "execution_count": 1,
   "id": "71d8d322",
   "metadata": {},
   "outputs": [],
   "source": [
    "import pandas as pd\n",
    "import numpy as np\n",
    "import seaborn as sns\n",
    "import matplotlib.pyplot as plt\n",
    "import warnings\n",
    "warnings.filterwarnings('ignore')"
   ]
  },
  {
   "cell_type": "markdown",
   "id": "80fdadb4",
   "metadata": {},
   "source": [
    "# Data"
   ]
  },
  {
   "cell_type": "code",
   "execution_count": 2,
   "id": "0d891e90",
   "metadata": {},
   "outputs": [
    {
     "data": {
      "text/html": [
       "<div>\n",
       "<style scoped>\n",
       "    .dataframe tbody tr th:only-of-type {\n",
       "        vertical-align: middle;\n",
       "    }\n",
       "\n",
       "    .dataframe tbody tr th {\n",
       "        vertical-align: top;\n",
       "    }\n",
       "\n",
       "    .dataframe thead th {\n",
       "        text-align: right;\n",
       "    }\n",
       "</style>\n",
       "<table border=\"1\" class=\"dataframe\">\n",
       "  <thead>\n",
       "    <tr style=\"text-align: right;\">\n",
       "      <th></th>\n",
       "      <th>id</th>\n",
       "      <th>case_number</th>\n",
       "      <th>date</th>\n",
       "      <th>block</th>\n",
       "      <th>iucr</th>\n",
       "      <th>primary_type</th>\n",
       "      <th>description</th>\n",
       "      <th>location_description</th>\n",
       "      <th>arrest</th>\n",
       "      <th>domestic</th>\n",
       "      <th>...</th>\n",
       "      <th>ward</th>\n",
       "      <th>community_area</th>\n",
       "      <th>fbi_code</th>\n",
       "      <th>x_coordinate</th>\n",
       "      <th>y_coordinate</th>\n",
       "      <th>year</th>\n",
       "      <th>updated_on</th>\n",
       "      <th>latitude</th>\n",
       "      <th>longitude</th>\n",
       "      <th>location</th>\n",
       "    </tr>\n",
       "  </thead>\n",
       "  <tbody>\n",
       "    <tr>\n",
       "      <th>0</th>\n",
       "      <td>13140855</td>\n",
       "      <td>JG341458</td>\n",
       "      <td>2023-01-01T00:00:00.000</td>\n",
       "      <td>082XX S JEFFERY BLVD</td>\n",
       "      <td>1754</td>\n",
       "      <td>OFFENSE INVOLVING CHILDREN</td>\n",
       "      <td>AGGRAVATED SEXUAL ASSAULT OF CHILD BY FAMILY M...</td>\n",
       "      <td>APARTMENT</td>\n",
       "      <td>False</td>\n",
       "      <td>True</td>\n",
       "      <td>...</td>\n",
       "      <td>8.0</td>\n",
       "      <td>46.0</td>\n",
       "      <td>02</td>\n",
       "      <td>1190953.0</td>\n",
       "      <td>1850848.0</td>\n",
       "      <td>2023</td>\n",
       "      <td>2023-09-24T15:41:26.000</td>\n",
       "      <td>41.745739</td>\n",
       "      <td>-87.575883</td>\n",
       "      <td>{'latitude': '41.745738706', 'longitude': '-87...</td>\n",
       "    </tr>\n",
       "    <tr>\n",
       "      <th>1</th>\n",
       "      <td>12938772</td>\n",
       "      <td>JG100243</td>\n",
       "      <td>2023-01-01T00:00:00.000</td>\n",
       "      <td>073XX S ABERDEEN ST</td>\n",
       "      <td>0266</td>\n",
       "      <td>CRIMINAL SEXUAL ASSAULT</td>\n",
       "      <td>PREDATORY</td>\n",
       "      <td>RESIDENCE</td>\n",
       "      <td>True</td>\n",
       "      <td>False</td>\n",
       "      <td>...</td>\n",
       "      <td>17.0</td>\n",
       "      <td>68.0</td>\n",
       "      <td>02</td>\n",
       "      <td>1170254.0</td>\n",
       "      <td>1856107.0</td>\n",
       "      <td>2023</td>\n",
       "      <td>2024-02-09T15:40:56.000</td>\n",
       "      <td>41.760645</td>\n",
       "      <td>-87.651575</td>\n",
       "      <td>{'latitude': '41.760645062', 'longitude': '-87...</td>\n",
       "    </tr>\n",
       "    <tr>\n",
       "      <th>2</th>\n",
       "      <td>13347280</td>\n",
       "      <td>JH126993</td>\n",
       "      <td>2023-01-01T00:00:00.000</td>\n",
       "      <td>007XX N LARRABEE ST</td>\n",
       "      <td>1140</td>\n",
       "      <td>DECEPTIVE PRACTICE</td>\n",
       "      <td>EMBEZZLEMENT</td>\n",
       "      <td>OTHER (SPECIFY)</td>\n",
       "      <td>False</td>\n",
       "      <td>False</td>\n",
       "      <td>...</td>\n",
       "      <td>42.0</td>\n",
       "      <td>8.0</td>\n",
       "      <td>12</td>\n",
       "      <td>NaN</td>\n",
       "      <td>NaN</td>\n",
       "      <td>2023</td>\n",
       "      <td>2024-01-25T15:42:27.000</td>\n",
       "      <td>NaN</td>\n",
       "      <td>NaN</td>\n",
       "      <td>NaN</td>\n",
       "    </tr>\n",
       "    <tr>\n",
       "      <th>3</th>\n",
       "      <td>13434255</td>\n",
       "      <td>JH231395</td>\n",
       "      <td>2023-01-01T00:00:00.000</td>\n",
       "      <td>114XX S CARPENTER ST</td>\n",
       "      <td>1153</td>\n",
       "      <td>DECEPTIVE PRACTICE</td>\n",
       "      <td>FINANCIAL IDENTITY THEFT OVER $ 300</td>\n",
       "      <td>RESIDENCE</td>\n",
       "      <td>False</td>\n",
       "      <td>False</td>\n",
       "      <td>...</td>\n",
       "      <td>21.0</td>\n",
       "      <td>75.0</td>\n",
       "      <td>11</td>\n",
       "      <td>NaN</td>\n",
       "      <td>NaN</td>\n",
       "      <td>2023</td>\n",
       "      <td>2024-04-20T15:41:25.000</td>\n",
       "      <td>NaN</td>\n",
       "      <td>NaN</td>\n",
       "      <td>NaN</td>\n",
       "    </tr>\n",
       "    <tr>\n",
       "      <th>4</th>\n",
       "      <td>13060487</td>\n",
       "      <td>JG245349</td>\n",
       "      <td>2023-01-01T00:00:00.000</td>\n",
       "      <td>021XX S MARSHALL BLVD</td>\n",
       "      <td>1752</td>\n",
       "      <td>OFFENSE INVOLVING CHILDREN</td>\n",
       "      <td>AGGRAVATED CRIMINAL SEXUAL ABUSE BY FAMILY MEMBER</td>\n",
       "      <td>RESIDENCE</td>\n",
       "      <td>False</td>\n",
       "      <td>True</td>\n",
       "      <td>...</td>\n",
       "      <td>25.0</td>\n",
       "      <td>30.0</td>\n",
       "      <td>17</td>\n",
       "      <td>1157030.0</td>\n",
       "      <td>1889735.0</td>\n",
       "      <td>2023</td>\n",
       "      <td>2024-01-26T15:40:42.000</td>\n",
       "      <td>41.853202</td>\n",
       "      <td>-87.699132</td>\n",
       "      <td>{'latitude': '41.853202129', 'longitude': '-87...</td>\n",
       "    </tr>\n",
       "    <tr>\n",
       "      <th>...</th>\n",
       "      <td>...</td>\n",
       "      <td>...</td>\n",
       "      <td>...</td>\n",
       "      <td>...</td>\n",
       "      <td>...</td>\n",
       "      <td>...</td>\n",
       "      <td>...</td>\n",
       "      <td>...</td>\n",
       "      <td>...</td>\n",
       "      <td>...</td>\n",
       "      <td>...</td>\n",
       "      <td>...</td>\n",
       "      <td>...</td>\n",
       "      <td>...</td>\n",
       "      <td>...</td>\n",
       "      <td>...</td>\n",
       "      <td>...</td>\n",
       "      <td>...</td>\n",
       "      <td>...</td>\n",
       "      <td>...</td>\n",
       "      <td>...</td>\n",
       "    </tr>\n",
       "    <tr>\n",
       "      <th>650583</th>\n",
       "      <td>13910176</td>\n",
       "      <td>JJ345463</td>\n",
       "      <td>2025-07-23T00:00:00.000</td>\n",
       "      <td>067XX N ASHLAND AVE</td>\n",
       "      <td>0710</td>\n",
       "      <td>THEFT</td>\n",
       "      <td>THEFT FROM MOTOR VEHICLE</td>\n",
       "      <td>STREET</td>\n",
       "      <td>False</td>\n",
       "      <td>False</td>\n",
       "      <td>...</td>\n",
       "      <td>49.0</td>\n",
       "      <td>1.0</td>\n",
       "      <td>06</td>\n",
       "      <td>1164383.0</td>\n",
       "      <td>1945033.0</td>\n",
       "      <td>2025</td>\n",
       "      <td>2025-07-30T15:43:39.000</td>\n",
       "      <td>42.004791</td>\n",
       "      <td>-87.670575</td>\n",
       "      <td>{'latitude': '42.004790901', 'longitude': '-87...</td>\n",
       "    </tr>\n",
       "    <tr>\n",
       "      <th>650584</th>\n",
       "      <td>13913686</td>\n",
       "      <td>JJ349653</td>\n",
       "      <td>2025-07-23T00:00:00.000</td>\n",
       "      <td>051XX S DR MARTIN LUTHER KING JR DR</td>\n",
       "      <td>1150</td>\n",
       "      <td>DECEPTIVE PRACTICE</td>\n",
       "      <td>CREDIT CARD FRAUD</td>\n",
       "      <td>APARTMENT</td>\n",
       "      <td>False</td>\n",
       "      <td>False</td>\n",
       "      <td>...</td>\n",
       "      <td>3.0</td>\n",
       "      <td>40.0</td>\n",
       "      <td>11</td>\n",
       "      <td>1179800.0</td>\n",
       "      <td>1870899.0</td>\n",
       "      <td>2025</td>\n",
       "      <td>2025-07-30T15:43:39.000</td>\n",
       "      <td>41.801023</td>\n",
       "      <td>-87.616136</td>\n",
       "      <td>{'latitude': '41.801022829', 'longitude': '-87...</td>\n",
       "    </tr>\n",
       "    <tr>\n",
       "      <th>650585</th>\n",
       "      <td>13910135</td>\n",
       "      <td>JJ345509</td>\n",
       "      <td>2025-07-23T00:00:00.000</td>\n",
       "      <td>060XX S WABASH AVE</td>\n",
       "      <td>0920</td>\n",
       "      <td>MOTOR VEHICLE THEFT</td>\n",
       "      <td>ATTEMPT - AUTOMOBILE</td>\n",
       "      <td>VEHICLE NON-COMMERCIAL</td>\n",
       "      <td>False</td>\n",
       "      <td>False</td>\n",
       "      <td>...</td>\n",
       "      <td>20.0</td>\n",
       "      <td>40.0</td>\n",
       "      <td>07</td>\n",
       "      <td>1177748.0</td>\n",
       "      <td>1865080.0</td>\n",
       "      <td>2025</td>\n",
       "      <td>2025-07-30T15:43:39.000</td>\n",
       "      <td>41.785102</td>\n",
       "      <td>-87.623838</td>\n",
       "      <td>{'latitude': '41.785101667', 'longitude': '-87...</td>\n",
       "    </tr>\n",
       "    <tr>\n",
       "      <th>650586</th>\n",
       "      <td>13915274</td>\n",
       "      <td>JJ345083</td>\n",
       "      <td>2025-07-23T00:00:00.000</td>\n",
       "      <td>104XX S AVENUE F</td>\n",
       "      <td>4387</td>\n",
       "      <td>OTHER OFFENSE</td>\n",
       "      <td>VIOLATE ORDER OF PROTECTION</td>\n",
       "      <td>RESIDENCE</td>\n",
       "      <td>False</td>\n",
       "      <td>True</td>\n",
       "      <td>...</td>\n",
       "      <td>10.0</td>\n",
       "      <td>52.0</td>\n",
       "      <td>26</td>\n",
       "      <td>1203487.0</td>\n",
       "      <td>1836350.0</td>\n",
       "      <td>2025</td>\n",
       "      <td>2025-07-30T15:43:39.000</td>\n",
       "      <td>41.705643</td>\n",
       "      <td>-87.530452</td>\n",
       "      <td>{'latitude': '41.70564324', 'longitude': '-87....</td>\n",
       "    </tr>\n",
       "    <tr>\n",
       "      <th>650587</th>\n",
       "      <td>13910891</td>\n",
       "      <td>JJ346295</td>\n",
       "      <td>2025-07-23T00:00:00.000</td>\n",
       "      <td>086XX S HALSTED ST</td>\n",
       "      <td>1345</td>\n",
       "      <td>CRIMINAL DAMAGE</td>\n",
       "      <td>TO CITY OF CHICAGO PROPERTY</td>\n",
       "      <td>CTA BUS</td>\n",
       "      <td>False</td>\n",
       "      <td>False</td>\n",
       "      <td>...</td>\n",
       "      <td>21.0</td>\n",
       "      <td>71.0</td>\n",
       "      <td>14</td>\n",
       "      <td>1172496.0</td>\n",
       "      <td>1847147.0</td>\n",
       "      <td>2025</td>\n",
       "      <td>2025-07-30T15:43:39.000</td>\n",
       "      <td>41.736009</td>\n",
       "      <td>-87.643621</td>\n",
       "      <td>{'latitude': '41.736008607', 'longitude': '-87...</td>\n",
       "    </tr>\n",
       "  </tbody>\n",
       "</table>\n",
       "<p>650588 rows × 22 columns</p>\n",
       "</div>"
      ],
      "text/plain": [
       "              id case_number                     date  \\\n",
       "0       13140855    JG341458  2023-01-01T00:00:00.000   \n",
       "1       12938772    JG100243  2023-01-01T00:00:00.000   \n",
       "2       13347280    JH126993  2023-01-01T00:00:00.000   \n",
       "3       13434255    JH231395  2023-01-01T00:00:00.000   \n",
       "4       13060487    JG245349  2023-01-01T00:00:00.000   \n",
       "...          ...         ...                      ...   \n",
       "650583  13910176    JJ345463  2025-07-23T00:00:00.000   \n",
       "650584  13913686    JJ349653  2025-07-23T00:00:00.000   \n",
       "650585  13910135    JJ345509  2025-07-23T00:00:00.000   \n",
       "650586  13915274    JJ345083  2025-07-23T00:00:00.000   \n",
       "650587  13910891    JJ346295  2025-07-23T00:00:00.000   \n",
       "\n",
       "                                      block  iucr                primary_type  \\\n",
       "0                      082XX S JEFFERY BLVD  1754  OFFENSE INVOLVING CHILDREN   \n",
       "1                       073XX S ABERDEEN ST  0266     CRIMINAL SEXUAL ASSAULT   \n",
       "2                       007XX N LARRABEE ST  1140          DECEPTIVE PRACTICE   \n",
       "3                      114XX S CARPENTER ST  1153          DECEPTIVE PRACTICE   \n",
       "4                     021XX S MARSHALL BLVD  1752  OFFENSE INVOLVING CHILDREN   \n",
       "...                                     ...   ...                         ...   \n",
       "650583                  067XX N ASHLAND AVE  0710                       THEFT   \n",
       "650584  051XX S DR MARTIN LUTHER KING JR DR  1150          DECEPTIVE PRACTICE   \n",
       "650585                   060XX S WABASH AVE  0920         MOTOR VEHICLE THEFT   \n",
       "650586                     104XX S AVENUE F  4387               OTHER OFFENSE   \n",
       "650587                   086XX S HALSTED ST  1345             CRIMINAL DAMAGE   \n",
       "\n",
       "                                              description  \\\n",
       "0       AGGRAVATED SEXUAL ASSAULT OF CHILD BY FAMILY M...   \n",
       "1                                               PREDATORY   \n",
       "2                                            EMBEZZLEMENT   \n",
       "3                     FINANCIAL IDENTITY THEFT OVER $ 300   \n",
       "4       AGGRAVATED CRIMINAL SEXUAL ABUSE BY FAMILY MEMBER   \n",
       "...                                                   ...   \n",
       "650583                           THEFT FROM MOTOR VEHICLE   \n",
       "650584                                  CREDIT CARD FRAUD   \n",
       "650585                               ATTEMPT - AUTOMOBILE   \n",
       "650586                        VIOLATE ORDER OF PROTECTION   \n",
       "650587                        TO CITY OF CHICAGO PROPERTY   \n",
       "\n",
       "          location_description  arrest  domestic  ...  ward  community_area  \\\n",
       "0                    APARTMENT   False      True  ...   8.0            46.0   \n",
       "1                    RESIDENCE    True     False  ...  17.0            68.0   \n",
       "2              OTHER (SPECIFY)   False     False  ...  42.0             8.0   \n",
       "3                    RESIDENCE   False     False  ...  21.0            75.0   \n",
       "4                    RESIDENCE   False      True  ...  25.0            30.0   \n",
       "...                        ...     ...       ...  ...   ...             ...   \n",
       "650583                  STREET   False     False  ...  49.0             1.0   \n",
       "650584               APARTMENT   False     False  ...   3.0            40.0   \n",
       "650585  VEHICLE NON-COMMERCIAL   False     False  ...  20.0            40.0   \n",
       "650586               RESIDENCE   False      True  ...  10.0            52.0   \n",
       "650587                 CTA BUS   False     False  ...  21.0            71.0   \n",
       "\n",
       "        fbi_code  x_coordinate y_coordinate  year               updated_on  \\\n",
       "0             02     1190953.0    1850848.0  2023  2023-09-24T15:41:26.000   \n",
       "1             02     1170254.0    1856107.0  2023  2024-02-09T15:40:56.000   \n",
       "2             12           NaN          NaN  2023  2024-01-25T15:42:27.000   \n",
       "3             11           NaN          NaN  2023  2024-04-20T15:41:25.000   \n",
       "4             17     1157030.0    1889735.0  2023  2024-01-26T15:40:42.000   \n",
       "...          ...           ...          ...   ...                      ...   \n",
       "650583        06     1164383.0    1945033.0  2025  2025-07-30T15:43:39.000   \n",
       "650584        11     1179800.0    1870899.0  2025  2025-07-30T15:43:39.000   \n",
       "650585        07     1177748.0    1865080.0  2025  2025-07-30T15:43:39.000   \n",
       "650586        26     1203487.0    1836350.0  2025  2025-07-30T15:43:39.000   \n",
       "650587        14     1172496.0    1847147.0  2025  2025-07-30T15:43:39.000   \n",
       "\n",
       "         latitude  longitude  \\\n",
       "0       41.745739 -87.575883   \n",
       "1       41.760645 -87.651575   \n",
       "2             NaN        NaN   \n",
       "3             NaN        NaN   \n",
       "4       41.853202 -87.699132   \n",
       "...           ...        ...   \n",
       "650583  42.004791 -87.670575   \n",
       "650584  41.801023 -87.616136   \n",
       "650585  41.785102 -87.623838   \n",
       "650586  41.705643 -87.530452   \n",
       "650587  41.736009 -87.643621   \n",
       "\n",
       "                                                 location  \n",
       "0       {'latitude': '41.745738706', 'longitude': '-87...  \n",
       "1       {'latitude': '41.760645062', 'longitude': '-87...  \n",
       "2                                                     NaN  \n",
       "3                                                     NaN  \n",
       "4       {'latitude': '41.853202129', 'longitude': '-87...  \n",
       "...                                                   ...  \n",
       "650583  {'latitude': '42.004790901', 'longitude': '-87...  \n",
       "650584  {'latitude': '41.801022829', 'longitude': '-87...  \n",
       "650585  {'latitude': '41.785101667', 'longitude': '-87...  \n",
       "650586  {'latitude': '41.70564324', 'longitude': '-87....  \n",
       "650587  {'latitude': '41.736008607', 'longitude': '-87...  \n",
       "\n",
       "[650588 rows x 22 columns]"
      ]
     },
     "execution_count": 2,
     "metadata": {},
     "output_type": "execute_result"
    }
   ],
   "source": [
    "df = pd.read_csv(\"chicago_crime_data_incremental.csv\")\n",
    "df"
   ]
  },
  {
   "cell_type": "markdown",
   "id": "ceb40f87",
   "metadata": {},
   "source": [
    "# Changing Data Types"
   ]
  },
  {
   "cell_type": "code",
   "execution_count": 3,
   "id": "d912e5d3",
   "metadata": {},
   "outputs": [
    {
     "data": {
      "text/plain": [
       "id                        int64\n",
       "case_number              object\n",
       "date                     object\n",
       "block                    object\n",
       "iucr                     object\n",
       "primary_type             object\n",
       "description              object\n",
       "location_description     object\n",
       "arrest                     bool\n",
       "domestic                   bool\n",
       "beat                      int64\n",
       "district                  int64\n",
       "ward                    float64\n",
       "community_area          float64\n",
       "fbi_code                 object\n",
       "x_coordinate            float64\n",
       "y_coordinate            float64\n",
       "year                      int64\n",
       "updated_on               object\n",
       "latitude                float64\n",
       "longitude               float64\n",
       "location                 object\n",
       "dtype: object"
      ]
     },
     "execution_count": 3,
     "metadata": {},
     "output_type": "execute_result"
    }
   ],
   "source": [
    "df.dtypes"
   ]
  },
  {
   "cell_type": "code",
   "execution_count": 4,
   "id": "7f906708",
   "metadata": {},
   "outputs": [],
   "source": [
    "# Convert to datetime\n",
    "df['date'] = pd.to_datetime(df['date'])\n",
    "df['updated_on'] = pd.to_datetime(df['updated_on'])\n",
    "# Convert float to nullable Int where applicable\n",
    "df['community_area'] = df['community_area'].astype('Int64')\n",
    "df['ward'] = df['ward'].astype('Int64')\n",
    "df['x_coordinate'] = df['x_coordinate'].astype('Int64')\n",
    "df['y_coordinate'] = df['y_coordinate'].astype('Int64')\n",
    "# Convert to float32\n",
    "df['latitude'] = df['latitude'].astype('float32')\n",
    "df['longitude'] = df['longitude'].astype('float32')\n",
    "# Optional: convert string columns to category\n",
    "categorical_cols = ['iucr', 'primary_type', 'description', 'location_description', 'fbi_code']\n",
    "for col in categorical_cols:\n",
    "    df[col] = df[col].astype('category')"
   ]
  },
  {
   "cell_type": "code",
   "execution_count": 5,
   "id": "19bb5d08",
   "metadata": {},
   "outputs": [
    {
     "data": {
      "text/plain": [
       "id                               int64\n",
       "case_number                     object\n",
       "date                    datetime64[ns]\n",
       "block                           object\n",
       "iucr                          category\n",
       "primary_type                  category\n",
       "description                   category\n",
       "location_description          category\n",
       "arrest                            bool\n",
       "domestic                          bool\n",
       "beat                             int64\n",
       "district                         int64\n",
       "ward                             Int64\n",
       "community_area                   Int64\n",
       "fbi_code                      category\n",
       "x_coordinate                     Int64\n",
       "y_coordinate                     Int64\n",
       "year                             int64\n",
       "updated_on              datetime64[ns]\n",
       "latitude                       float32\n",
       "longitude                      float32\n",
       "location                        object\n",
       "dtype: object"
      ]
     },
     "execution_count": 5,
     "metadata": {},
     "output_type": "execute_result"
    }
   ],
   "source": [
    "df.dtypes"
   ]
  },
  {
   "cell_type": "markdown",
   "id": "4cc80c6c",
   "metadata": {},
   "source": [
    "# EDA"
   ]
  },
  {
   "cell_type": "code",
   "execution_count": 6,
   "id": "cd227a25",
   "metadata": {},
   "outputs": [
    {
     "data": {
      "text/html": [
       "<div>\n",
       "<style scoped>\n",
       "    .dataframe tbody tr th:only-of-type {\n",
       "        vertical-align: middle;\n",
       "    }\n",
       "\n",
       "    .dataframe tbody tr th {\n",
       "        vertical-align: top;\n",
       "    }\n",
       "\n",
       "    .dataframe thead th {\n",
       "        text-align: right;\n",
       "    }\n",
       "</style>\n",
       "<table border=\"1\" class=\"dataframe\">\n",
       "  <thead>\n",
       "    <tr style=\"text-align: right;\">\n",
       "      <th></th>\n",
       "      <th>id</th>\n",
       "      <th>beat</th>\n",
       "      <th>district</th>\n",
       "      <th>ward</th>\n",
       "      <th>community_area</th>\n",
       "      <th>x_coordinate</th>\n",
       "      <th>y_coordinate</th>\n",
       "      <th>year</th>\n",
       "      <th>latitude</th>\n",
       "      <th>longitude</th>\n",
       "    </tr>\n",
       "  </thead>\n",
       "  <tbody>\n",
       "    <tr>\n",
       "      <th>count</th>\n",
       "      <td>6.505880e+05</td>\n",
       "      <td>650588.000000</td>\n",
       "      <td>650588.000000</td>\n",
       "      <td>650585.000000</td>\n",
       "      <td>650571.000000</td>\n",
       "      <td>6.476170e+05</td>\n",
       "      <td>6.476170e+05</td>\n",
       "      <td>650588.000000</td>\n",
       "      <td>647617.000000</td>\n",
       "      <td>647617.000000</td>\n",
       "    </tr>\n",
       "    <tr>\n",
       "      <th>mean</th>\n",
       "      <td>1.339489e+07</td>\n",
       "      <td>1154.216733</td>\n",
       "      <td>11.312460</td>\n",
       "      <td>23.150063</td>\n",
       "      <td>36.283526</td>\n",
       "      <td>1.165363e+06</td>\n",
       "      <td>1.887453e+06</td>\n",
       "      <td>2023.795022</td>\n",
       "      <td>41.965401</td>\n",
       "      <td>-87.943161</td>\n",
       "    </tr>\n",
       "    <tr>\n",
       "      <th>std</th>\n",
       "      <td>6.903053e+05</td>\n",
       "      <td>710.048489</td>\n",
       "      <td>7.095815</td>\n",
       "      <td>13.965015</td>\n",
       "      <td>21.589439</td>\n",
       "      <td>1.626917e+04</td>\n",
       "      <td>3.160463e+04</td>\n",
       "      <td>0.749448</td>\n",
       "      <td>0.147060</td>\n",
       "      <td>0.280805</td>\n",
       "    </tr>\n",
       "    <tr>\n",
       "      <th>min</th>\n",
       "      <td>2.727900e+04</td>\n",
       "      <td>111.000000</td>\n",
       "      <td>1.000000</td>\n",
       "      <td>1.000000</td>\n",
       "      <td>1.000000</td>\n",
       "      <td>1.091242e+06</td>\n",
       "      <td>1.813897e+06</td>\n",
       "      <td>2023.000000</td>\n",
       "      <td>41.644588</td>\n",
       "      <td>-87.939735</td>\n",
       "    </tr>\n",
       "    <tr>\n",
       "      <th>25%</th>\n",
       "      <td>1.318201e+07</td>\n",
       "      <td>533.000000</td>\n",
       "      <td>5.000000</td>\n",
       "      <td>10.000000</td>\n",
       "      <td>22.000000</td>\n",
       "      <td>1.153997e+06</td>\n",
       "      <td>1.860155e+06</td>\n",
       "      <td>2023.000000</td>\n",
       "      <td>41.771729</td>\n",
       "      <td>-87.709938</td>\n",
       "    </tr>\n",
       "    <tr>\n",
       "      <th>50%</th>\n",
       "      <td>1.342334e+07</td>\n",
       "      <td>1033.000000</td>\n",
       "      <td>10.000000</td>\n",
       "      <td>23.000000</td>\n",
       "      <td>32.000000</td>\n",
       "      <td>1.167199e+06</td>\n",
       "      <td>1.893865e+06</td>\n",
       "      <td>2024.000000</td>\n",
       "      <td>41.864460</td>\n",
       "      <td>-87.661613</td>\n",
       "    </tr>\n",
       "    <tr>\n",
       "      <th>75%</th>\n",
       "      <td>1.366316e+07</td>\n",
       "      <td>1732.000000</td>\n",
       "      <td>17.000000</td>\n",
       "      <td>34.000000</td>\n",
       "      <td>53.000000</td>\n",
       "      <td>1.176752e+06</td>\n",
       "      <td>1.910285e+06</td>\n",
       "      <td>2024.000000</td>\n",
       "      <td>41.909760</td>\n",
       "      <td>-87.626953</td>\n",
       "    </tr>\n",
       "    <tr>\n",
       "      <th>max</th>\n",
       "      <td>1.391784e+07</td>\n",
       "      <td>2535.000000</td>\n",
       "      <td>31.000000</td>\n",
       "      <td>50.000000</td>\n",
       "      <td>77.000000</td>\n",
       "      <td>1.205119e+06</td>\n",
       "      <td>1.951517e+06</td>\n",
       "      <td>2025.000000</td>\n",
       "      <td>42.022560</td>\n",
       "      <td>-87.524529</td>\n",
       "    </tr>\n",
       "  </tbody>\n",
       "</table>\n",
       "</div>"
      ],
      "text/plain": [
       "                 id           beat       district           ward  \\\n",
       "count  6.505880e+05  650588.000000  650588.000000  650585.000000   \n",
       "mean   1.339489e+07    1154.216733      11.312460      23.150063   \n",
       "std    6.903053e+05     710.048489       7.095815      13.965015   \n",
       "min    2.727900e+04     111.000000       1.000000       1.000000   \n",
       "25%    1.318201e+07     533.000000       5.000000      10.000000   \n",
       "50%    1.342334e+07    1033.000000      10.000000      23.000000   \n",
       "75%    1.366316e+07    1732.000000      17.000000      34.000000   \n",
       "max    1.391784e+07    2535.000000      31.000000      50.000000   \n",
       "\n",
       "       community_area  x_coordinate  y_coordinate           year  \\\n",
       "count   650571.000000  6.476170e+05  6.476170e+05  650588.000000   \n",
       "mean        36.283526  1.165363e+06  1.887453e+06    2023.795022   \n",
       "std         21.589439  1.626917e+04  3.160463e+04       0.749448   \n",
       "min          1.000000  1.091242e+06  1.813897e+06    2023.000000   \n",
       "25%         22.000000  1.153997e+06  1.860155e+06    2023.000000   \n",
       "50%         32.000000  1.167199e+06  1.893865e+06    2024.000000   \n",
       "75%         53.000000  1.176752e+06  1.910285e+06    2024.000000   \n",
       "max         77.000000  1.205119e+06  1.951517e+06    2025.000000   \n",
       "\n",
       "            latitude      longitude  \n",
       "count  647617.000000  647617.000000  \n",
       "mean       41.965401     -87.943161  \n",
       "std         0.147060       0.280805  \n",
       "min        41.644588     -87.939735  \n",
       "25%        41.771729     -87.709938  \n",
       "50%        41.864460     -87.661613  \n",
       "75%        41.909760     -87.626953  \n",
       "max        42.022560     -87.524529  "
      ]
     },
     "execution_count": 6,
     "metadata": {},
     "output_type": "execute_result"
    }
   ],
   "source": [
    "df.describe()"
   ]
  },
  {
   "cell_type": "code",
   "execution_count": 7,
   "id": "f7ecc313",
   "metadata": {},
   "outputs": [
    {
     "name": "stdout",
     "output_type": "stream",
     "text": [
      "<class 'pandas.core.frame.DataFrame'>\n",
      "RangeIndex: 650588 entries, 0 to 650587\n",
      "Data columns (total 22 columns):\n",
      " #   Column                Non-Null Count   Dtype         \n",
      "---  ------                --------------   -----         \n",
      " 0   id                    650588 non-null  int64         \n",
      " 1   case_number           650588 non-null  object        \n",
      " 2   date                  650588 non-null  datetime64[ns]\n",
      " 3   block                 650588 non-null  object        \n",
      " 4   iucr                  650588 non-null  category      \n",
      " 5   primary_type          650588 non-null  category      \n",
      " 6   description           650588 non-null  category      \n",
      " 7   location_description  647629 non-null  category      \n",
      " 8   arrest                650588 non-null  bool          \n",
      " 9   domestic              650588 non-null  bool          \n",
      " 10  beat                  650588 non-null  int64         \n",
      " 11  district              650588 non-null  int64         \n",
      " 12  ward                  650585 non-null  Int64         \n",
      " 13  community_area        650571 non-null  Int64         \n",
      " 14  fbi_code              650588 non-null  category      \n",
      " 15  x_coordinate          647617 non-null  Int64         \n",
      " 16  y_coordinate          647617 non-null  Int64         \n",
      " 17  year                  650588 non-null  int64         \n",
      " 18  updated_on            650588 non-null  datetime64[ns]\n",
      " 19  latitude              647617 non-null  float32       \n",
      " 20  longitude             647617 non-null  float32       \n",
      " 21  location              647617 non-null  object        \n",
      "dtypes: Int64(4), bool(2), category(5), datetime64[ns](2), float32(2), int64(4), object(3)\n",
      "memory usage: 78.2+ MB\n"
     ]
    }
   ],
   "source": [
    "df.info()"
   ]
  },
  {
   "cell_type": "code",
   "execution_count": 8,
   "id": "9f891199",
   "metadata": {},
   "outputs": [
    {
     "data": {
      "image/png": "[encoded data removed]",
      "text/plain": [
       "<Figure size 720x432 with 1 Axes>"
      ]
     },
     "metadata": {
      "needs_background": "light"
     },
     "output_type": "display_data"
    }
   ],
   "source": [
    "missing = df.isnull().sum().sort_values(ascending=False)\n",
    "missing = missing[missing > 0]\n",
    "plt.figure(figsize=(10, 6))\n",
    "sns.barplot(x=missing.values, y=missing.index, palette='viridis')\n",
    "plt.title(\"Missing Values per Column\")\n",
    "plt.xlabel(\"Count of Missing Values\")\n",
    "plt.ylabel(\"Column\")\n",
    "plt.show()"
   ]
  },
  {
   "cell_type": "code",
   "execution_count": 9,
   "id": "cf6a5352",
   "metadata": {},
   "outputs": [
    {
     "name": "stdout",
     "output_type": "stream",
     "text": [
      "                  Column  Unique Values\n",
      "0                 arrest              2\n",
      "1               domestic              2\n",
      "2                   year              3\n",
      "3               district             23\n",
      "4               fbi_code             26\n",
      "5           primary_type             31\n",
      "6                   ward             50\n",
      "7         community_area             77\n",
      "8   location_description            142\n",
      "9                   beat            275\n",
      "10           description            333\n",
      "11                  iucr            355\n",
      "12            updated_on           1550\n",
      "13             longitude          33039\n",
      "14                 block          33779\n",
      "15          x_coordinate          61226\n",
      "16              latitude          75948\n",
      "17          y_coordinate          95420\n",
      "18              location         227265\n",
      "19                  date         320995\n",
      "20           case_number         650519\n",
      "21                    id         650588\n"
     ]
    }
   ],
   "source": [
    "unique_counts = df.nunique().sort_values(ascending=True)\n",
    "unique_counts_df = unique_counts.reset_index()\n",
    "unique_counts_df.columns = ['Column', 'Unique Values']\n",
    "print(unique_counts_df)"
   ]
  },
  {
   "cell_type": "code",
   "execution_count": 10,
   "id": "30017d73",
   "metadata": {},
   "outputs": [
    {
     "data": {
      "text/plain": [
       "array([2023, 2024, 2025], dtype=int64)"
      ]
     },
     "execution_count": 10,
     "metadata": {},
     "output_type": "execute_result"
    }
   ],
   "source": [
    "df[\"year\"].unique()"
   ]
  },
  {
   "cell_type": "code",
   "execution_count": 28,
   "id": "07814663",
   "metadata": {},
   "outputs": [],
   "source": [
    "def unique_value_counts(column):\n",
    "    counts = df[column].value_counts()\n",
    "    for val, cnt in counts.items():\n",
    "        print(f\"{val}: {cnt}\")"
   ]
  },
  {
   "cell_type": "markdown",
   "id": "3dc229b5",
   "metadata": {},
   "source": [
    "# Removing Duplicates"
   ]
  },
  {
   "cell_type": "code",
   "execution_count": 11,
   "id": "5c6b4ad3",
   "metadata": {},
   "outputs": [
    {
     "data": {
      "text/plain": [
       "(650588, 22)"
      ]
     },
     "execution_count": 11,
     "metadata": {},
     "output_type": "execute_result"
    }
   ],
   "source": [
    "df.shape"
   ]
  },
  {
   "cell_type": "code",
   "execution_count": 12,
   "id": "fb5bff1e",
   "metadata": {},
   "outputs": [],
   "source": [
    "df.drop_duplicates(inplace=True)"
   ]
  },
  {
   "cell_type": "code",
   "execution_count": 13,
   "id": "d28dc65a",
   "metadata": {},
   "outputs": [
    {
     "data": {
      "text/plain": [
       "(650588, 22)"
      ]
     },
     "execution_count": 13,
     "metadata": {},
     "output_type": "execute_result"
    }
   ],
   "source": [
    "df.shape"
   ]
  },
  {
   "cell_type": "markdown",
   "id": "9c3a3151",
   "metadata": {},
   "source": [
    "# Handling Null Values"
   ]
  },
  {
   "cell_type": "code",
   "execution_count": 14,
   "id": "39b19255",
   "metadata": {},
   "outputs": [
    {
     "data": {
      "text/plain": [
       "id                         0\n",
       "case_number                0\n",
       "date                       0\n",
       "block                      0\n",
       "iucr                       0\n",
       "primary_type               0\n",
       "description                0\n",
       "location_description    2959\n",
       "arrest                     0\n",
       "domestic                   0\n",
       "beat                       0\n",
       "district                   0\n",
       "ward                       3\n",
       "community_area            17\n",
       "fbi_code                   0\n",
       "x_coordinate            2971\n",
       "y_coordinate            2971\n",
       "year                       0\n",
       "updated_on                 0\n",
       "latitude                2971\n",
       "longitude               2971\n",
       "location                2971\n",
       "dtype: int64"
      ]
     },
     "execution_count": 14,
     "metadata": {},
     "output_type": "execute_result"
    }
   ],
   "source": [
    "df.isnull().sum()"
   ]
  },
  {
   "cell_type": "code",
   "execution_count": 15,
   "id": "cd08a130",
   "metadata": {},
   "outputs": [
    {
     "data": {
      "text/plain": [
       "<IntegerArray>\n",
       "[   8,   17,   42,   21,   25,   48,   27,   44,    9,   20,   37,   32,   28,\n",
       "   18,   19,   39,   46,    1,   16,    3,   24,   30,    7,   14,   40,   22,\n",
       "   49,   35,   26,   15,   23,   45,    4,   11,   34,    5,   50,   13,    2,\n",
       "   29,    6,   10,   38,   43,   36,   12,   33,   31,   41,   47, <NA>]\n",
       "Length: 51, dtype: Int64"
      ]
     },
     "execution_count": 15,
     "metadata": {},
     "output_type": "execute_result"
    }
   ],
   "source": [
    "df[\"ward\"].unique()"
   ]
  },
  {
   "cell_type": "code",
   "execution_count": 16,
   "id": "8a3a7115",
   "metadata": {},
   "outputs": [],
   "source": [
    "mode_ward = df['ward'].mode().iloc[0]\n",
    "df['ward'].fillna(mode_ward, inplace=True)"
   ]
  },
  {
   "cell_type": "code",
   "execution_count": 17,
   "id": "b9223469",
   "metadata": {},
   "outputs": [
    {
     "data": {
      "text/plain": [
       "<IntegerArray>\n",
       "[  46,   68,    8,   75,   30,   77,   28,    6,   49,   42,   23,   24,   70,\n",
       "   74,   43,   71,   27,   16,   66,    3,   35,   29,   19,   25,    4,   56,\n",
       "    1,   20,   44,   72,   31,    7,   32,   67,   15,   11,   38,   33,   61,\n",
       "   53,   54,    2,   69,   63,   51,   45,   73,   22,   41,   26,   65,   47,\n",
       "   13,   40,    5,   64,   60,   14,   58,   34,   12,   48,   17,   36,   55,\n",
       "   39,   10,   37,   18,   62,   21,   50,   52,    9,   59,   76,   57, <NA>]\n",
       "Length: 78, dtype: Int64"
      ]
     },
     "execution_count": 17,
     "metadata": {},
     "output_type": "execute_result"
    }
   ],
   "source": [
    "df[\"community_area\"].unique()"
   ]
  },
  {
   "cell_type": "code",
   "execution_count": 18,
   "id": "e247981d",
   "metadata": {},
   "outputs": [],
   "source": [
    "mode_community_area = df['community_area'].mode().iloc[0]\n",
    "df['community_area'].fillna(mode_community_area, inplace=True)"
   ]
  },
  {
   "cell_type": "code",
   "execution_count": 31,
   "id": "304fa46c",
   "metadata": {},
   "outputs": [
    {
     "data": {
      "text/plain": [
       "id                         0\n",
       "case_number                0\n",
       "date                       0\n",
       "block                      0\n",
       "iucr                       0\n",
       "primary_type               0\n",
       "description                0\n",
       "location_description    2959\n",
       "arrest                     0\n",
       "domestic                   0\n",
       "beat                       0\n",
       "district                   0\n",
       "ward                       0\n",
       "community_area             0\n",
       "fbi_code                   0\n",
       "x_coordinate            2971\n",
       "y_coordinate            2971\n",
       "year                       0\n",
       "updated_on                 0\n",
       "latitude                2971\n",
       "longitude               2971\n",
       "location                2971\n",
       "danger_level               0\n",
       "hour                       0\n",
       "day_period                 0\n",
       "dtype: int64"
      ]
     },
     "execution_count": 31,
     "metadata": {},
     "output_type": "execute_result"
    }
   ],
   "source": [
    "df.isnull().sum()"
   ]
  },
  {
   "cell_type": "code",
   "execution_count": 21,
   "id": "cd185406",
   "metadata": {},
   "outputs": [],
   "source": [
    "def classify_danger(row):\n",
    "    high = ['HOMICIDE', 'CRIMINAL SEXUAL ASSAULT', 'ROBBERY', 'BATTERY', 'OFFENSE INVOLVING CHILDREN', 'ASSAULT', 'ARSON', 'WEAPONS VIOLATION']\n",
    "    medium = ['BURGLARY', 'DECEPTIVE PRACTICE', 'MOTOR VEHICLE THEFT', 'INTIMIDATION', 'STALKING', 'THEFT']\n",
    "    low = ['NARCOTICS', 'CRIMINAL DAMAGE', 'PUBLIC PEACE VIOLATION', 'GAMBLING', 'LIQUOR LAW VIOLATION', 'OBSCENITY', 'OTHER OFFENSE']\n",
    "    \n",
    "    if row in high:\n",
    "        return 'High'\n",
    "    elif row in medium:\n",
    "        return 'Medium'\n",
    "    elif row in low:\n",
    "        return 'Low'\n",
    "    else:\n",
    "        return 'Unknown'\n",
    "\n",
    "df['danger_level'] = df['primary_type'].apply(classify_danger)"
   ]
  },
  {
   "cell_type": "code",
   "execution_count": 35,
   "id": "89eebea1",
   "metadata": {},
   "outputs": [
    {
     "name": "stdout",
     "output_type": "stream",
     "text": [
      "Medium: 271654\n",
      "High: 226000\n",
      "Low: 133721\n",
      "Unknown: 19213\n"
     ]
    }
   ],
   "source": [
    "unique_value_counts(\"danger_level\")"
   ]
  },
  {
   "cell_type": "code",
   "execution_count": null,
   "id": "3a3a019e",
   "metadata": {},
   "outputs": [],
   "source": [
    "df['hour'] = df['date'].dt.hour\n",
    "\n",
    "def get_day_period(hour):\n",
    "    if 5 <= hour < 12:\n",
    "        return 'Morning'\n",
    "    elif 12 <= hour < 17:\n",
    "        return 'Afternoon'\n",
    "    elif 17 <= hour < 21:\n",
    "        return 'Evening'\n",
    "    else:\n",
    "        return 'Night'\n",
    "\n",
    "df['day_period'] = df['hour'].apply(get_day_period)"
   ]
  },
  {
   "cell_type": "code",
   "execution_count": 36,
   "id": "b106037c",
   "metadata": {},
   "outputs": [
    {
     "name": "stdout",
     "output_type": "stream",
     "text": [
      "0: 45474\n",
      "12: 37059\n",
      "15: 35531\n",
      "17: 35063\n",
      "16: 34853\n",
      "18: 34604\n",
      "19: 33636\n",
      "20: 32415\n",
      "14: 30941\n",
      "21: 29895\n",
      "13: 29259\n",
      "22: 28590\n",
      "11: 28439\n",
      "10: 27685\n",
      "9: 26813\n",
      "23: 26183\n",
      "8: 22237\n",
      "1: 21689\n",
      "2: 19227\n",
      "3: 16571\n",
      "7: 16363\n",
      "4: 13566\n",
      "6: 12523\n",
      "5: 11972\n"
     ]
    }
   ],
   "source": [
    "unique_value_counts(\"hour\")"
   ]
  },
  {
   "cell_type": "code",
   "execution_count": 37,
   "id": "494ff46f",
   "metadata": {},
   "outputs": [
    {
     "name": "stdout",
     "output_type": "stream",
     "text": [
      "Night: 201195\n",
      "Afternoon: 167643\n",
      "Morning: 146032\n",
      "Evening: 135718\n"
     ]
    }
   ],
   "source": [
    "unique_value_counts(\"day_period\")"
   ]
  },
  {
   "cell_type": "code",
   "execution_count": 38,
   "id": "0477c075",
   "metadata": {},
   "outputs": [],
   "source": [
    "df['is_weekend'] = df['date'].dt.dayofweek >= 5"
   ]
  },
  {
   "cell_type": "code",
   "execution_count": 39,
   "id": "c6b51c45",
   "metadata": {},
   "outputs": [
    {
     "name": "stdout",
     "output_type": "stream",
     "text": [
      "False: 462243\n",
      "True: 188345\n"
     ]
    }
   ],
   "source": [
    "unique_value_counts(\"is_weekend\")"
   ]
  },
  {
   "cell_type": "code",
   "execution_count": 40,
   "id": "c35a3a60",
   "metadata": {},
   "outputs": [],
   "source": [
    "indoor = ['RESIDENCE', 'APARTMENT', 'HOSPITAL BUILDING', 'SCHOOL', 'GOVERNMENT BUILDING']\n",
    "df['location_type'] = df['location_description'].apply(lambda x: 'Indoor' if x in indoor else 'Outdoor')"
   ]
  },
  {
   "cell_type": "code",
   "execution_count": 41,
   "id": "bc1e1353",
   "metadata": {},
   "outputs": [
    {
     "name": "stdout",
     "output_type": "stream",
     "text": [
      "Outdoor: 445071\n",
      "Indoor: 202558\n"
     ]
    }
   ],
   "source": [
    "unique_value_counts(\"location_type\")"
   ]
  },
  {
   "cell_type": "code",
   "execution_count": 42,
   "id": "749f9b8d",
   "metadata": {},
   "outputs": [],
   "source": [
    "def get_season(month):\n",
    "    if month in [12, 1, 2]: return 'Winter'\n",
    "    elif month in [3, 4, 5]: return 'Spring'\n",
    "    elif month in [6, 7, 8]: return 'Summer'\n",
    "    else: return 'Autumn'\n",
    "\n",
    "df['season'] = df['date'].dt.month.apply(get_season)"
   ]
  },
  {
   "cell_type": "code",
   "execution_count": 43,
   "id": "c8c011eb",
   "metadata": {},
   "outputs": [
    {
     "name": "stdout",
     "output_type": "stream",
     "text": [
      "Spring: 187413\n",
      "Summer: 177345\n",
      "Winter: 154351\n",
      "Autumn: 131479\n"
     ]
    }
   ],
   "source": [
    "unique_value_counts(\"season\")"
   ]
  },
  {
   "cell_type": "code",
   "execution_count": 44,
   "id": "c8ff3f02",
   "metadata": {},
   "outputs": [],
   "source": [
    "df['is_gun_related'] = df['description'].str.contains('GUN|FIREARM|WEAPON', case=False, na=False)"
   ]
  },
  {
   "cell_type": "code",
   "execution_count": 45,
   "id": "1349801a",
   "metadata": {},
   "outputs": [
    {
     "name": "stdout",
     "output_type": "stream",
     "text": [
      "False: 583998\n",
      "True: 66590\n"
     ]
    }
   ],
   "source": [
    "unique_value_counts(\"is_gun_related\")"
   ]
  },
  {
   "cell_type": "code",
   "execution_count": 46,
   "id": "d3e3870f",
   "metadata": {},
   "outputs": [],
   "source": [
    "df['crime_frequency_at_location'] = df.groupby('location_description')['location_description'].transform('count')"
   ]
  },
  {
   "cell_type": "code",
   "execution_count": 48,
   "id": "d0f88a8d",
   "metadata": {},
   "outputs": [],
   "source": [
    "public_keywords = ['STREET', 'PARKING', 'SIDEWALK', 'PARK', 'GAS', 'CTA', 'SCHOOL']\n",
    "df['is_public_place'] = df['location_description'].str.contains('|'.join(public_keywords), case=False, na=False)"
   ]
  },
  {
   "cell_type": "code",
   "execution_count": 49,
   "id": "6030a0dc",
   "metadata": {},
   "outputs": [
    {
     "name": "stdout",
     "output_type": "stream",
     "text": [
      "False: 376210\n",
      "True: 274378\n"
     ]
    }
   ],
   "source": [
    "unique_value_counts(\"is_public_place\")"
   ]
  },
  {
   "cell_type": "code",
   "execution_count": 53,
   "id": "a52cefb8",
   "metadata": {},
   "outputs": [],
   "source": [
    "df['date'] = pd.to_datetime(df['date'])\n",
    "df['month_day'] = df['date'].dt.strftime('%m-%d')\n",
    "special_day_labels = {\n",
    "    '01-01': \"New Year's Day\",\n",
    "    '02-14': \"Valentine's Day\",\n",
    "    '03-17': \"St. Patrick's Day\",\n",
    "    '07-04': \"Independence Day\",\n",
    "    '10-31': \"Halloween\",\n",
    "    '11-23': \"Thanksgiving\",\n",
    "    '12-24': \"Christmas Eve\",\n",
    "    '12-25': \"Christmas Day\",\n",
    "    '12-31': \"New Year's Eve\"\n",
    "}\n",
    "df['special_day'] = df['month_day'].map(special_day_labels).fillna('Regular Day')\n",
    "df.drop(columns='month_day', inplace=True)"
   ]
  },
  {
   "cell_type": "code",
   "execution_count": 55,
   "id": "b50e9ee2",
   "metadata": {},
   "outputs": [
    {
     "name": "stdout",
     "output_type": "stream",
     "text": [
      "Regular Day: 635216\n",
      "New Year's Day: 2887\n",
      "Independence Day: 2381\n",
      "St. Patrick's Day: 1969\n",
      "Valentine's Day: 1937\n",
      "Halloween: 1478\n",
      "New Year's Eve: 1263\n",
      "Christmas Eve: 1213\n",
      "Thanksgiving: 1205\n",
      "Christmas Day: 1039\n"
     ]
    }
   ],
   "source": [
    "unique_value_counts(\"special_day\")"
   ]
  },
  {
   "cell_type": "code",
   "execution_count": 58,
   "id": "9e279652",
   "metadata": {},
   "outputs": [
    {
     "name": "stdout",
     "output_type": "stream",
     "text": [
      "<class 'pandas.core.frame.DataFrame'>\n",
      "Int64Index: 650588 entries, 0 to 650587\n",
      "Data columns (total 32 columns):\n",
      " #   Column                       Non-Null Count   Dtype         \n",
      "---  ------                       --------------   -----         \n",
      " 0   id                           650588 non-null  int64         \n",
      " 1   case_number                  650588 non-null  object        \n",
      " 2   date                         650588 non-null  datetime64[ns]\n",
      " 3   block                        650588 non-null  object        \n",
      " 4   iucr                         650588 non-null  category      \n",
      " 5   primary_type                 650588 non-null  category      \n",
      " 6   description                  650588 non-null  category      \n",
      " 7   location_description         647629 non-null  category      \n",
      " 8   arrest                       650588 non-null  bool          \n",
      " 9   domestic                     650588 non-null  bool          \n",
      " 10  beat                         650588 non-null  int64         \n",
      " 11  district                     650588 non-null  int64         \n",
      " 12  ward                         650588 non-null  Int64         \n",
      " 13  community_area               650588 non-null  Int64         \n",
      " 14  fbi_code                     650588 non-null  category      \n",
      " 15  x_coordinate                 647617 non-null  Int64         \n",
      " 16  y_coordinate                 647617 non-null  Int64         \n",
      " 17  year                         650588 non-null  int64         \n",
      " 18  updated_on                   650588 non-null  datetime64[ns]\n",
      " 19  latitude                     647617 non-null  float32       \n",
      " 20  longitude                    647617 non-null  float32       \n",
      " 21  location                     647617 non-null  object        \n",
      " 22  danger_level                 650588 non-null  object        \n",
      " 23  hour                         650588 non-null  int64         \n",
      " 24  day_period                   650588 non-null  object        \n",
      " 25  is_weekend                   650588 non-null  bool          \n",
      " 26  location_type                647629 non-null  object        \n",
      " 27  season                       650588 non-null  object        \n",
      " 28  is_gun_related               650588 non-null  bool          \n",
      " 29  crime_frequency_at_location  647629 non-null  float64       \n",
      " 30  is_public_place              650588 non-null  bool          \n",
      " 31  special_day                  650588 non-null  object        \n",
      "dtypes: Int64(4), bool(5), category(5), datetime64[ns](2), float32(2), float64(1), int64(5), object(8)\n",
      "memory usage: 119.8+ MB\n"
     ]
    }
   ],
   "source": [
    "df.info()"
   ]
  },
  {
   "cell_type": "code",
   "execution_count": 56,
   "id": "3bde1951",
   "metadata": {},
   "outputs": [],
   "source": [
    "df.to_csv('chicago_crime_data_cleaned.csv', index=False)"
   ]
  },
  {
   "cell_type": "code",
   "execution_count": null,
   "id": "c531c211",
   "metadata": {},
   "outputs": [],
   "source": []
  }
 ],
 "metadata": {
  "kernelspec": {
   "display_name": "Python 3 (ipykernel)",
   "language": "python",
   "name": "python3"
  },
  "language_info": {
   "codemirror_mode": {
    "name": "ipython",
    "version": 3
   },
   "file_extension": ".py",
   "mimetype": "text/x-python",
   "name": "python",
   "nbconvert_exporter": "python",
   "pygments_lexer": "ipython3",
   "version": "3.9.12"
  }
 },
 "nbformat": 4,
 "nbformat_minor": 5
}
